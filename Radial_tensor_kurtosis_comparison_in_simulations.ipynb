{
 "cells": [
  {
   "cell_type": "markdown",
   "id": "66ee313b",
   "metadata": {},
   "source": [
    "In this notebook, I will run some toy model simulations just to see if the scaled radial tensor kurtosis proposed by Hansen et al. 2017 (https://pubmed.ncbi.nlm.nih.gov/27539807/) is more robust to implausible negative kurtosis estimates than the standard radial kurtosis estimates (https://pubmed.ncbi.nlm.nih.gov/21337412/)."
   ]
  },
  {
   "cell_type": "code",
   "execution_count": 1,
   "id": "575abda8",
   "metadata": {},
   "outputs": [],
   "source": [
    "# Import some relevant DIPY modules\n",
    "\n",
    "from dipy.sims.voxel import multi_tensor_dki\n",
    "import dipy.core.gradients as grad\n",
    "from dipy.core.sphere import disperse_charges, Sphere, HemiSphere\n",
    "import dipy.reconst.dki as dki\n",
    "import dipy.reconst.dti as dti\n",
    "from dipy.reconst.dki import split_dki_param, Wrotate_element\n",
    "import numpy as np\n",
    "import matplotlib.pyplot as plt\n",
    "import matplotlib\n",
    "\n",
    "%matplotlib inline"
   ]
  },
  {
   "cell_type": "markdown",
   "id": "96bb75c9",
   "metadata": {},
   "source": [
    "Synthetic signals are produced using DIPY (https://www.frontiersin.org/articles/10.3389/fninf.2014.00008/full)"
   ]
  },
  {
   "cell_type": "code",
   "execution_count": 2,
   "id": "f8537131",
   "metadata": {},
   "outputs": [],
   "source": [
    "n_pts = 60\n",
    "theta = np.pi * np.random.rand(n_pts)\n",
    "phi = 2 * np.pi * np.random.rand(n_pts)\n",
    "hsph_initial = HemiSphere(theta=theta, phi=phi)\n",
    "hsph_updated, potential = disperse_charges(hsph_initial, 5000)"
   ]
  },
  {
   "cell_type": "code",
   "execution_count": 3,
   "id": "36bff947",
   "metadata": {},
   "outputs": [],
   "source": [
    "bvecs = np.concatenate([np.zeros((5, 3)), hsph_updated.vertices, hsph_updated.vertices])\n",
    "bvals = np.concatenate([np.zeros((5)), np.ones(hsph_updated.vertices.shape[0]) * 1000., np.ones(hsph_updated.vertices.shape[0]) * 2000.])"
   ]
  },
  {
   "cell_type": "code",
   "execution_count": 4,
   "id": "2be31b09",
   "metadata": {},
   "outputs": [],
   "source": [
    "gtab= grad.gradient_table(bvals, bvecs)"
   ]
  },
  {
   "cell_type": "code",
   "execution_count": 5,
   "id": "d73a5c05",
   "metadata": {},
   "outputs": [],
   "source": [
    "l1i = ADi =  1.8e-3\n",
    "l2i = l3i = RDi =  0.03e-3\n",
    "l1e = ADe =  1.6e-3\n",
    "l2e = l3e = RDe =  0.6e-3\n",
    "fie = 60"
   ]
  },
  {
   "cell_type": "code",
   "execution_count": 6,
   "id": "df8bd860",
   "metadata": {},
   "outputs": [],
   "source": [
    "mevals = np.array([[l1i, l2i, l3i],\n",
    "                   [l1e, l2e, l3e]])"
   ]
  },
  {
   "cell_type": "code",
   "execution_count": 7,
   "id": "dd9730c0",
   "metadata": {},
   "outputs": [],
   "source": [
    "angles = [(45, 45), (45, 45)]\n",
    "fractions = [fie, (100 - fie)]"
   ]
  },
  {
   "cell_type": "code",
   "execution_count": 8,
   "id": "6fc85cb4",
   "metadata": {},
   "outputs": [],
   "source": [
    "sig_gt, dt, kt = multi_tensor_dki(gtab, mevals, S0=1.0, angles=angles,\n",
    "                                  fractions=fractions, snr=None)"
   ]
  },
  {
   "cell_type": "markdown",
   "id": "79226cc8",
   "metadata": {},
   "source": [
    "Standard radial kurtosis estimates are already available in DIPY (c.f. https://www.ncbi.nlm.nih.gov/pmc/articles/PMC8327208/)"
   ]
  },
  {
   "cell_type": "code",
   "execution_count": 9,
   "id": "ae8f3650",
   "metadata": {},
   "outputs": [],
   "source": [
    "dkim = dki.DiffusionKurtosisModel(gtab)\n",
    "dkif = dkim.fit(sig_gt)"
   ]
  },
  {
   "cell_type": "code",
   "execution_count": 10,
   "id": "6c642f9b",
   "metadata": {},
   "outputs": [],
   "source": [
    "RK = dkif.rk(0, 10, analytical=False)"
   ]
  },
  {
   "cell_type": "code",
   "execution_count": 11,
   "id": "17bb4dbb",
   "metadata": {},
   "outputs": [
    {
     "data": {
      "text/plain": [
       "array(3.51433207)"
      ]
     },
     "execution_count": 11,
     "metadata": {},
     "output_type": "execute_result"
    }
   ],
   "source": [
    "RK"
   ]
  },
  {
   "cell_type": "markdown",
   "id": "45634b23",
   "metadata": {},
   "source": [
    "Code to compute the radial tensor kurtosis from DKI fitted model parameters:"
   ]
  },
  {
   "cell_type": "code",
   "execution_count": 12,
   "id": "a5281616",
   "metadata": {},
   "outputs": [],
   "source": [
    "def radial_tensor_kurtosis(dki_params, min_kurtosis=-3./7, max_kurtosis=10):\n",
    "    r\"\"\" Compute radial tensor kurtosis (RTK) [1]_\n",
    "\n",
    "    Parameters\n",
    "    ----------\n",
    "    dki_params : ndarray (x, y, z, 27) or (n, 27)\n",
    "        All parameters estimated from the diffusion kurtosis model.\n",
    "        Parameters are ordered as follows:\n",
    "            1) Three diffusion tensor's eigenvalues\n",
    "            2) Three lines of the eigenvector matrix each containing the first,\n",
    "               second and third coordinates of the eigenvector\n",
    "            3) Fifteen elements of the kurtosis tensor\n",
    "    min_kurtosis : float (optional)\n",
    "        To keep kurtosis values within a plausible biophysical range, radial\n",
    "        kurtosis values that are smaller than `min_kurtosis` are replaced with\n",
    "        `min_kurtosis`. Default = -3./7 (theoretical kurtosis limit for regions\n",
    "        that consist of water confined to spherical pores [3]_)\n",
    "    max_kurtosis : float (optional)\n",
    "        To keep kurtosis values within a plausible biophysical range, radial\n",
    "        kurtosis values that are larger than `max_kurtosis` are replaced with\n",
    "        `max_kurtosis`. Default = 10\n",
    "\n",
    "    Returns\n",
    "    -------\n",
    "    rtk : array\n",
    "        Calculated RK.\n",
    "\n",
    "    Notes\n",
    "    -----\n",
    "    RTK is defined as\n",
    "\n",
    "    .. math::\n",
    "\n",
    "    RKT = \\frac{3}{8} (W_{2222} + W_{3333} + 2*W_{2233})\n",
    "    \n",
    "    where W is the kurtosis tensor rotated to a coordinate system in which the\n",
    "    3 orthonormal eigenvectors of DT are the base coordinate\n",
    "    \"\"\"\n",
    "    outshape = dki_params.shape[:-1]\n",
    "    dki_params = dki_params.reshape((-1, dki_params.shape[-1]))\n",
    "\n",
    "    # Split the model parameters to three variable containing the evals,\n",
    "    # evecs, and kurtosis elements\n",
    "    evals, evecs, kt = split_dki_param(dki_params)\n",
    "\n",
    "    # Rotate the kurtosis tensor from the standard Cartesian coordinate\n",
    "    # system to another coordinate system in which the 3 orthonormal\n",
    "    # eigenvectors of DT are the base coordinate\n",
    "    Wyyyy = Wrotate_element(kt, 1, 1, 1, 1, evecs)\n",
    "    Wzzzz = Wrotate_element(kt, 2, 2, 2, 2, evecs)\n",
    "    Wyyzz = Wrotate_element(kt, 1, 1, 2, 2, evecs)\n",
    "\n",
    "    # Compute RK\n",
    "    RTK = 3/8 * (Wyyyy +  Wzzzz +  2*Wyyzz)\n",
    "\n",
    "    if min_kurtosis is not None:\n",
    "        RTK = RTK.clip(min=min_kurtosis)\n",
    "\n",
    "    if max_kurtosis is not None:\n",
    "        RTK = RTK.clip(max=max_kurtosis)\n",
    "\n",
    "    return RTK.reshape(outshape)"
   ]
  },
  {
   "cell_type": "markdown",
   "id": "8b54510e",
   "metadata": {},
   "source": [
    "Let's run the radial tensor kurtosis code from the previous fitted DKI model parameters"
   ]
  },
  {
   "cell_type": "code",
   "execution_count": 13,
   "id": "8a77ad7c",
   "metadata": {},
   "outputs": [],
   "source": [
    "RKT = radial_tensor_kurtosis(dkif.model_params, -100, 1000)"
   ]
  },
  {
   "cell_type": "code",
   "execution_count": 14,
   "id": "388db839",
   "metadata": {},
   "outputs": [
    {
     "data": {
      "text/plain": [
       "array(0.421096)"
      ]
     },
     "execution_count": 14,
     "metadata": {},
     "output_type": "execute_result"
    }
   ],
   "source": [
    "RKT"
   ]
  },
  {
   "cell_type": "markdown",
   "id": "4d6dd0b9",
   "metadata": {},
   "source": [
    "Radial tensor kurtosis estimates are rescaled to minimize the effects from non radial directions (https://pubmed.ncbi.nlm.nih.gov/27539807/) "
   ]
  },
  {
   "cell_type": "code",
   "execution_count": 15,
   "id": "4376de35",
   "metadata": {},
   "outputs": [],
   "source": [
    "RD = dkif.rd"
   ]
  },
  {
   "cell_type": "code",
   "execution_count": 16,
   "id": "11640f10",
   "metadata": {},
   "outputs": [],
   "source": [
    "MD = dkif.md"
   ]
  },
  {
   "cell_type": "code",
   "execution_count": 17,
   "id": "3a6a80df",
   "metadata": {},
   "outputs": [],
   "source": [
    "Kper = RKT * MD**2 / (RD**2)"
   ]
  },
  {
   "cell_type": "code",
   "execution_count": 18,
   "id": "62f3f57c",
   "metadata": {},
   "outputs": [
    {
     "data": {
      "text/plain": [
       "3.5143320726714977"
      ]
     },
     "execution_count": 18,
     "metadata": {},
     "output_type": "execute_result"
    }
   ],
   "source": [
    "Kper"
   ]
  },
  {
   "cell_type": "markdown",
   "id": "985808d0",
   "metadata": {},
   "source": [
    "Let's now process 10000 instances of signals corrupted by Rician noise with SNR=30"
   ]
  },
  {
   "cell_type": "code",
   "execution_count": 21,
   "id": "550f8abc",
   "metadata": {},
   "outputs": [],
   "source": [
    "n_sims = 10000\n",
    "sim_rk = np.empty((n_sims))\n",
    "sim_kper = np.empty((n_sims))\n",
    "\n",
    "for sim_idx in range(n_sims):\n",
    "    sig, dt, kt = multi_tensor_dki(gtab, mevals, S0=1.0, angles=angles,\n",
    "                                   fractions=fractions, snr=30)\n",
    "    dkifn = dkim.fit(sig)\n",
    "    sim_rk[sim_idx] = dkifn.rk(-10, 10)\n",
    "    rkt_i = radial_tensor_kurtosis(dkifn.model_params, -100, 1000)\n",
    "    rdi = dkifn.rd\n",
    "    mdi = dkifn.md\n",
    "    sim_kper[sim_idx] = rkt_i * mdi**2 / (rdi**2)"
   ]
  },
  {
   "cell_type": "markdown",
   "id": "a17f67e4",
   "metadata": {},
   "source": [
    "Let's now plot the overlaid standard RK and Kper histograms "
   ]
  },
  {
   "cell_type": "code",
   "execution_count": 22,
   "id": "b9cf88b2",
   "metadata": {},
   "outputs": [
    {
     "data": {
      "text/plain": [
       "<matplotlib.lines.Line2D at 0x1d580d99cd0>"
      ]
     },
     "execution_count": 22,
     "metadata": {},
     "output_type": "execute_result"
    },
    {
     "data": {
      "image/png": "[encoded data removed]",
      "text/plain": [
       "<Figure size 400x300 with 1 Axes>"
      ]
     },
     "metadata": {},
     "output_type": "display_data"
    }
   ],
   "source": [
    "fig1, ax = plt.subplots(1, 1, figsize=(4, 3))\n",
    "fig1.subplots_adjust(hspace=0.3, wspace=0.15)\n",
    "\n",
    "counts, ed = np.histogram(sim_rk, bins=100, range=(-1, 5), density=True)\n",
    "counts = counts/np.sum(counts)\n",
    "cax0 = ax.bar(ed[:-1]+np.diff(ed[:2])/2, counts, width = 6/100, color='grey', alpha=0.7, edgecolor='black', label='RK (noisy)')\n",
    "\n",
    "counts, ed = np.histogram(sim_kper, bins=100, range=(-1, 5), density=True)\n",
    "counts = counts/np.sum(counts)\n",
    "cax0 = ax.bar(ed[:-1]+np.diff(ed[:2])/2, counts, width = 6/100, color='cyan', alpha=0.7, edgecolor='black',  label='Kper (noisy)')\n",
    "ax.axvline(x = RK, color = [0, 0, 0], label='K (noise free)')\n",
    "ax.axvline(x = Kper, linestyle='dashed', color = [0, 0, 1], label='Kper (noise free)')"
   ]
  },
  {
   "cell_type": "markdown",
   "id": "13bb2599",
   "metadata": {},
   "source": [
    "Indeed, the implausible negagtive kurtosis tail is reduced for Kper estimates."
   ]
  }
 ],
 "metadata": {
  "kernelspec": {
   "display_name": "Python 3 (ipykernel)",
   "language": "python",
   "name": "python3"
  },
  "language_info": {
   "codemirror_mode": {
    "name": "ipython",
    "version": 3
   },
   "file_extension": ".py",
   "mimetype": "text/x-python",
   "name": "python",
   "nbconvert_exporter": "python",
   "pygments_lexer": "ipython3",
   "version": "3.9.13"
  }
 },
 "nbformat": 4,
 "nbformat_minor": 5
}
